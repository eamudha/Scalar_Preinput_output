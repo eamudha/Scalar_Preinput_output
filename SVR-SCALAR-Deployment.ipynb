{
 "cells": [
  {
   "cell_type": "code",
   "execution_count": 1,
   "id": "2e4d9e22",
   "metadata": {},
   "outputs": [],
   "source": [
    "import pickle"
   ]
  },
  {
   "cell_type": "code",
   "execution_count": 2,
   "id": "420819f5",
   "metadata": {},
   "outputs": [],
   "source": [
    "filename1=\"scalar_initial_svr.sav\""
   ]
  },
  {
   "cell_type": "code",
   "execution_count": 3,
   "id": "5beafd9a",
   "metadata": {},
   "outputs": [],
   "source": [
    "sc,scy=pickle.load(open(\"scalar_initial_svr.sav\", 'rb'))"
   ]
  },
  {
   "cell_type": "code",
   "execution_count": 4,
   "id": "8c8aef84",
   "metadata": {},
   "outputs": [
    {
     "data": {
      "text/plain": [
       "(StandardScaler(), StandardScaler())"
      ]
     },
     "execution_count": 4,
     "metadata": {},
     "output_type": "execute_result"
    }
   ],
   "source": [
    "sc,scy"
   ]
  },
  {
   "cell_type": "code",
   "execution_count": 5,
   "id": "cf8b7ed7",
   "metadata": {},
   "outputs": [
    {
     "name": "stderr",
     "output_type": "stream",
     "text": [
      "C:\\Users\\ANIRUDH\\anaconda3\\Lib\\site-packages\\sklearn\\base.py:464: UserWarning: X does not have valid feature names, but StandardScaler was fitted with feature names\n",
      "  warnings.warn(\n"
     ]
    }
   ],
   "source": [
    "filename2=\"finalised_model_svr.sav\"\n",
    "preinput=sc.transform([[1300,12000,4000,0,1]])\n",
    "loaded_model=pickle.load(open(\"finalised_model_svr.sav\",'rb'))\n",
    "result=loaded_model.predict(preinput)"
   ]
  },
  {
   "cell_type": "code",
   "execution_count": 6,
   "id": "757a5f37",
   "metadata": {},
   "outputs": [
    {
     "data": {
      "text/plain": [
       "array([-0.95549581])"
      ]
     },
     "execution_count": 6,
     "metadata": {},
     "output_type": "execute_result"
    }
   ],
   "source": [
    "result"
   ]
  },
  {
   "cell_type": "code",
   "execution_count": 7,
   "id": "b1e7f5e5",
   "metadata": {},
   "outputs": [
    {
     "name": "stderr",
     "output_type": "stream",
     "text": [
      "C:\\Users\\ANIRUDH\\anaconda3\\Lib\\site-packages\\sklearn\\base.py:464: UserWarning: X does not have valid feature names, but StandardScaler was fitted with feature names\n",
      "  warnings.warn(\n"
     ]
    }
   ],
   "source": [
    "preoutput=scy,scy.transform([result])"
   ]
  },
  {
   "cell_type": "code",
   "execution_count": 8,
   "id": "a719d2e2",
   "metadata": {},
   "outputs": [
    {
     "data": {
      "text/plain": [
       "(StandardScaler(), array([[-2.49471755]]))"
      ]
     },
     "execution_count": 8,
     "metadata": {},
     "output_type": "execute_result"
    }
   ],
   "source": [
    "preoutput"
   ]
  },
  {
   "cell_type": "code",
   "execution_count": null,
   "id": "f1eedebf",
   "metadata": {},
   "outputs": [],
   "source": []
  }
 ],
 "metadata": {
  "kernelspec": {
   "display_name": "Python 3 (ipykernel)",
   "language": "python",
   "name": "python3"
  },
  "language_info": {
   "codemirror_mode": {
    "name": "ipython",
    "version": 3
   },
   "file_extension": ".py",
   "mimetype": "text/x-python",
   "name": "python",
   "nbconvert_exporter": "python",
   "pygments_lexer": "ipython3",
   "version": "3.11.5"
  }
 },
 "nbformat": 4,
 "nbformat_minor": 5
}
